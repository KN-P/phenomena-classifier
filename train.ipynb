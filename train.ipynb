{
  "nbformat": 4,
  "nbformat_minor": 0,
  "metadata": {
    "colab": {
      "provenance": [],
      "collapsed_sections": []
    },
    "kernelspec": {
      "name": "python3",
      "display_name": "Python 3"
    },
    "language_info": {
      "name": "python"
    },
    "accelerator": "GPU",
    "gpuClass": "standard"
  },
  "cells": [
    {
      "cell_type": "code",
      "execution_count": null,
      "metadata": {
        "id": "Rb2fsuMu8GnH"
      },
      "outputs": [],
      "source": [
        "import tensorflow as tf\n",
        "import matplotlib.pyplot as plt\n",
        "import numpy as np\n",
        "import PIL\n",
        "import tensorflow as tf\n",
        "import os\n",
        "from tensorflow.keras import layers\n",
        "from tensorflow.keras.models import Sequential\n",
        "from tensorflow.keras.optimizers import Adam\n",
        "from tensorflow.keras.layers import Dense,Flatten\n",
        "import matplotlib.pyplot as plt\n",
        "from tensorflow.keras.preprocessing.image import ImageDataGenerator\n",
        "from tensorflow.keras.optimizers import RMSprop\n",
        "from PIL import ImageFile"
      ]
    },
    {
      "cell_type": "code",
      "source": [
        "tf.__version__"
      ],
      "metadata": {
        "colab": {
          "base_uri": "https://localhost:8080/",
          "height": 36
        },
        "id": "PiFo6W5o-QjE",
        "outputId": "29ec1202-cc5a-474f-aef1-864ad9333839"
      },
      "execution_count": null,
      "outputs": [
        {
          "output_type": "execute_result",
          "data": {
            "text/plain": [
              "'2.8.2'"
            ],
            "application/vnd.google.colaboratory.intrinsic+json": {
              "type": "string"
            }
          },
          "metadata": {},
          "execution_count": 3
        }
      ]
    },
    {
      "cell_type": "code",
      "source": [
        "from google.colab import drive\n",
        "drive.mount('/content/drive')"
      ],
      "metadata": {
        "colab": {
          "base_uri": "https://localhost:8080/"
        },
        "id": "3hn76fu0h8zj",
        "outputId": "39089ca5-95e9-4169-99ad-ab27a2e0bafe"
      },
      "execution_count": null,
      "outputs": [
        {
          "output_type": "stream",
          "name": "stdout",
          "text": [
            "Mounted at /content/drive\n"
          ]
        }
      ]
    },
    {
      "cell_type": "code",
      "source": [
        "test_dir = '/content/drive/MyDrive/Minor project/dataset/test'\n",
        "valid_dir = '/content/drive/MyDrive/Minor project/dataset/val'\n",
        "train_dir = '/content/drive/MyDrive/Minor project/dataset/train'\n",
        "base_dir = '/content/drive/MyDrive/Minor project/dataset'\n",
        "\n",
        "target_size = (400, 400)\n",
        "batch_size = 32\n",
        "ImageFile.LOAD_TRUNCATED_IMAGES = True\n",
        "\n",
        "datagen = ImageDataGenerator(rescale=1/255)"
      ],
      "metadata": {
        "id": "7XJWBR_LbRNw"
      },
      "execution_count": null,
      "outputs": []
    },
    {
      "cell_type": "code",
      "source": [
        "width, height, dimension = 431, 467, 3\n",
        "classes = os.listdir(train_dir)\n",
        "classes.sort()\n",
        "\n",
        "input_shape = tuple(list(target_size)+[3])\n",
        "num_epochs = 10\n",
        "\n",
        "print(classes)"
      ],
      "metadata": {
        "id": "P7_HXsZDBW0o",
        "colab": {
          "base_uri": "https://localhost:8080/"
        },
        "outputId": "d8038bf0-37a3-45e7-bc64-984832c38864"
      },
      "execution_count": null,
      "outputs": [
        {
          "output_type": "stream",
          "name": "stdout",
          "text": [
            "['F', 'G', 'H', 'I', 'J', 'K', 'L', 'M', 'N', 'O']\n"
          ]
        }
      ]
    },
    {
      "cell_type": "code",
      "source": [
        "input_layer = tf.keras.Input(shape=(width, height, 3), name='image_input')\n",
        "resnet_model = Sequential()\n",
        "\n",
        "pretrained_model= tf.keras.applications.resnet_v2.ResNet50V2(include_top=False,\n",
        "                   input_shape=(width, height, 3),\n",
        "                   pooling='max',\n",
        "                   weights='imagenet')\n",
        "for layer in pretrained_model.layers:\n",
        "        layer.trainable=False\n",
        "\n",
        "resnet_model.add(pretrained_model)"
      ],
      "metadata": {
        "colab": {
          "base_uri": "https://localhost:8080/"
        },
        "id": "idcPu7oSBPNW",
        "outputId": "c7944532-fa91-4cab-950e-6e2f5b15826e"
      },
      "execution_count": null,
      "outputs": [
        {
          "output_type": "stream",
          "name": "stdout",
          "text": [
            "Downloading data from https://storage.googleapis.com/tensorflow/keras-applications/resnet/resnet50v2_weights_tf_dim_ordering_tf_kernels_notop.h5\n",
            "94674944/94668760 [==============================] - 0s 0us/step\n",
            "94683136/94668760 [==============================] - 0s 0us/step\n"
          ]
        }
      ]
    },
    {
      "cell_type": "code",
      "source": [
        "resnet_model.add(Flatten())\n",
        "resnet_model.add(Dense(512, activation='relu'))\n",
        "resnet_model.add(Dense(10, activation='softmax'))"
      ],
      "metadata": {
        "id": "VfrQV-ggZvGv"
      },
      "execution_count": null,
      "outputs": []
    },
    {
      "cell_type": "code",
      "source": [
        "resnet_model.summary()"
      ],
      "metadata": {
        "colab": {
          "base_uri": "https://localhost:8080/"
        },
        "id": "-U3ypyAebFsf",
        "outputId": "aaf283c8-5011-40c5-9543-d753621b5f5a"
      },
      "execution_count": null,
      "outputs": [
        {
          "output_type": "stream",
          "name": "stdout",
          "text": [
            "Model: \"sequential\"\n",
            "_________________________________________________________________\n",
            " Layer (type)                Output Shape              Param #   \n",
            "=================================================================\n",
            " resnet50v2 (Functional)     (None, 2048)              23564800  \n",
            "                                                                 \n",
            " flatten (Flatten)           (None, 2048)              0         \n",
            "                                                                 \n",
            " dense (Dense)               (None, 512)               1049088   \n",
            "                                                                 \n",
            " dense_1 (Dense)             (None, 10)                5130      \n",
            "                                                                 \n",
            "=================================================================\n",
            "Total params: 24,619,018\n",
            "Trainable params: 1,054,218\n",
            "Non-trainable params: 23,564,800\n",
            "_________________________________________________________________\n"
          ]
        }
      ]
    },
    {
      "cell_type": "code",
      "source": [
        "train_it = datagen.flow_from_directory(train_dir, class_mode='categorical', batch_size=batch_size\n",
        "                                       , classes=classes, target_size=target_size)\n",
        "test_it = datagen.flow_from_directory(test_dir, class_mode='categorical', batch_size=batch_size\n",
        "                                       , classes=classes, target_size=target_size)\n",
        "valid_it = datagen.flow_from_directory(valid_dir, class_mode='categorical', batch_size=batch_size\n",
        "                                       , classes=classes, target_size=target_size)\n",
        "\n",
        "train_sample = train_it.n\n",
        "valid_sample = valid_it.n\n",
        "\n",
        "print(train_it)\n",
        "print(input_shape)\n",
        "print(train_sample)\n",
        "print(valid_sample)"
      ],
      "metadata": {
        "colab": {
          "base_uri": "https://localhost:8080/"
        },
        "id": "2bB4bDbQb79w",
        "outputId": "0e8d1bf3-e4df-4f73-f544-b84489dcd65f"
      },
      "execution_count": null,
      "outputs": [
        {
          "output_type": "stream",
          "name": "stdout",
          "text": [
            "Found 5009 images belonging to 10 classes.\n",
            "Found 1000 images belonging to 10 classes.\n",
            "Found 1000 images belonging to 10 classes.\n",
            "<keras.preprocessing.image.DirectoryIterator object at 0x7fea0405eb90>\n",
            "(400, 400, 3)\n",
            "5009\n",
            "1000\n"
          ]
        }
      ]
    },
    {
      "cell_type": "code",
      "source": [
        "resnet_model.compile(loss='categorical_crossentropy',\n",
        "              optimizer=RMSprop(learning_rate=0.001),\n",
        "              metrics=['accuracy'])"
      ],
      "metadata": {
        "id": "a-jyUvHzfcCP"
      },
      "execution_count": null,
      "outputs": []
    },
    {
      "cell_type": "code",
      "source": [
        "history = resnet_model.fit(\n",
        "        train_it, \n",
        "        steps_per_epoch=int(train_sample/batch_size),  \n",
        "        epochs=num_epochs,\n",
        "        validation_data=valid_it,\n",
        "        validation_steps=int(valid_sample)/batch_size)"
      ],
      "metadata": {
        "colab": {
          "base_uri": "https://localhost:8080/"
        },
        "id": "9KrcFNGKf0AJ",
        "outputId": "c4c1f699-98d0-4d5a-f667-92ce8e81c73c"
      },
      "execution_count": null,
      "outputs": [
        {
          "output_type": "stream",
          "name": "stdout",
          "text": [
            "Epoch 1/10\n",
            "156/156 [==============================] - 1349s 9s/step - loss: 2.3981 - accuracy: 0.8149 - val_loss: 0.4174 - val_accuracy: 0.9130\n",
            "Epoch 2/10\n",
            "156/156 [==============================] - 88s 562ms/step - loss: 0.5079 - accuracy: 0.9146 - val_loss: 0.8237 - val_accuracy: 0.8900\n",
            "Epoch 3/10\n",
            "156/156 [==============================] - 83s 528ms/step - loss: 0.3355 - accuracy: 0.9385 - val_loss: 0.7311 - val_accuracy: 0.8920\n",
            "Epoch 4/10\n",
            "156/156 [==============================] - 82s 525ms/step - loss: 0.3061 - accuracy: 0.9445 - val_loss: 0.3490 - val_accuracy: 0.9430\n",
            "Epoch 5/10\n",
            "156/156 [==============================] - 82s 525ms/step - loss: 0.2121 - accuracy: 0.9628 - val_loss: 0.4108 - val_accuracy: 0.9130\n",
            "Epoch 6/10\n",
            "156/156 [==============================] - 81s 517ms/step - loss: 0.1723 - accuracy: 0.9658 - val_loss: 0.3754 - val_accuracy: 0.9410\n",
            "Epoch 7/10\n",
            "156/156 [==============================] - 82s 523ms/step - loss: 0.1392 - accuracy: 0.9697 - val_loss: 0.2301 - val_accuracy: 0.9660\n",
            "Epoch 8/10\n",
            "156/156 [==============================] - 81s 518ms/step - loss: 0.1134 - accuracy: 0.9785 - val_loss: 0.8647 - val_accuracy: 0.9120\n",
            "Epoch 9/10\n",
            "156/156 [==============================] - 81s 520ms/step - loss: 0.0945 - accuracy: 0.9787 - val_loss: 0.3505 - val_accuracy: 0.9560\n",
            "Epoch 10/10\n",
            "156/156 [==============================] - 81s 516ms/step - loss: 0.0871 - accuracy: 0.9829 - val_loss: 0.3332 - val_accuracy: 0.9500\n"
          ]
        }
      ]
    },
    {
      "cell_type": "code",
      "source": [
        "fig1 = plt.gcf()\n",
        "plt.plot(history.history['accuracy'])\n",
        "plt.plot(history.history['val_accuracy'])\n",
        "plt.axis(ymin=0.4,ymax=1)\n",
        "plt.grid()\n",
        "plt.title('Model Accuracy')\n",
        "plt.ylabel('Accuracy')\n",
        "plt.xlabel('Epochs')\n",
        "plt.legend(['train', 'validation'])\n",
        "plt.show()"
      ],
      "metadata": {
        "id": "xb5JQ5gEhKMq"
      },
      "execution_count": null,
      "outputs": []
    },
    {
      "cell_type": "code",
      "source": [],
      "metadata": {
        "id": "tnv5vIGjTQPM"
      },
      "execution_count": null,
      "outputs": []
    }
  ]
}